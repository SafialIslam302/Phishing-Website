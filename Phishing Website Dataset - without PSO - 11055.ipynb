{
 "cells": [
  {
   "cell_type": "code",
   "execution_count": 1,
   "metadata": {},
   "outputs": [],
   "source": [
    "import sys\n",
    "import numpy as np\n",
    "import pandas as pd\n",
    "import seaborn as sns\n",
    "from keras.models import Sequential\n",
    "from sklearn.model_selection import KFold \n",
    "from keras.layers.core import Dense,Dropout\n",
    "from sklearn.model_selection import RepeatedKFold\n",
    "from sklearn.neighbors import KNeighborsClassifier\n",
    "from keras.metrics import categorical_crossentropy\n",
    "\n",
    "from sklearn.linear_model import LogisticRegression\n",
    "from sklearn.model_selection import train_test_split\n",
    "from sklearn.feature_selection import SelectKBest,chi2\n",
    "from keras.layers import Activation,BatchNormalization\n",
    "from keras.callbacks import ReduceLROnPlateau,EarlyStopping\n",
    "from sklearn.preprocessing import RobustScaler,StandardScaler,LabelEncoder,MinMaxScaler\n",
    "from sklearn.ensemble import RandomForestClassifier, AdaBoostClassifier, GradientBoostingClassifier\n",
    "from sklearn.model_selection import train_test_split, cross_val_score,KFold,StratifiedKFold, GridSearchCV\n",
    "from sklearn.metrics import confusion_matrix,accuracy_score,f1_score,average_precision_score,recall_score,roc_auc_score\n",
    "\n",
    "import matplotlib.pyplot as plt\n",
    "from numpy.random import random\n",
    "get_ipython().run_line_magic('matplotlib', 'inline')\n"
   ]
  },
  {
   "cell_type": "code",
   "execution_count": 2,
   "metadata": {},
   "outputs": [],
   "source": [
    "import math\n",
    "from sklearn import tree\n",
    "from sklearn import metrics\n",
    "from sklearn.svm import SVC\n",
    "from sklearn.metrics import accuracy_score\n",
    "from sklearn.tree import DecisionTreeClassifier"
   ]
  },
  {
   "cell_type": "code",
   "execution_count": 26,
   "metadata": {},
   "outputs": [],
   "source": [
    "from statistics import mean\n",
    "import matplotlib.pyplot as plt\n",
    "from sklearn.metrics import plot_roc_curve\n",
    "pd.options.display.max_columns=None\n",
    "from sklearn.metrics import accuracy_score\n",
    "from sklearn.neighbors import KNeighborsClassifier"
   ]
  },
  {
   "cell_type": "code",
   "execution_count": 4,
   "metadata": {},
   "outputs": [],
   "source": [
    "import tensorflow as tf\n",
    "from keras.models import Sequential\n",
    "from keras.layers import Dense, Dropout\n",
    "from sklearn.preprocessing import StandardScaler\n",
    "from sklearn.neural_network import MLPClassifier"
   ]
  },
  {
   "cell_type": "code",
   "execution_count": 5,
   "metadata": {},
   "outputs": [],
   "source": [
    "Data = pd.read_csv(\"Phishing.csv\",header=\"infer\")"
   ]
  },
  {
   "cell_type": "code",
   "execution_count": 6,
   "metadata": {},
   "outputs": [],
   "source": [
    "x=Data.iloc [:,1:-1]\n",
    "x=x.values\n",
    "y=Data.iloc[:,-1].values"
   ]
  },
  {
   "cell_type": "code",
   "execution_count": 7,
   "metadata": {},
   "outputs": [
    {
     "name": "stdout",
     "output_type": "stream",
     "text": [
      "30\n"
     ]
    }
   ],
   "source": [
    "dimension = Data.shape[1] - 1\n",
    "print(dimension)"
   ]
  },
  {
   "cell_type": "code",
   "execution_count": 8,
   "metadata": {},
   "outputs": [],
   "source": [
    "np.set_printoptions(threshold=sys.maxsize)\n",
    "#print(y)"
   ]
  },
  {
   "cell_type": "code",
   "execution_count": 9,
   "metadata": {},
   "outputs": [],
   "source": [
    "y = np.where(y >= 0, 1, -1)\n",
    "#print(y)"
   ]
  },
  {
   "cell_type": "markdown",
   "metadata": {},
   "source": [
    "# Evalution Function"
   ]
  },
  {
   "cell_type": "code",
   "execution_count": 10,
   "metadata": {},
   "outputs": [],
   "source": [
    "def evaluation(clf, X, Y):\n",
    "    print(f'Accuracy')\n",
    "    acc = cross_val_score(clf, X, Y, scoring=\"accuracy\", cv = 5)\n",
    "    print(acc)\n",
    "    print(\"Accuracy Score (Mean): \", acc.mean())\n",
    "    print(\"Standard Error: \", acc.std())\n",
    "    \n",
    "\n",
    "    print(f'\\nF1 Score')\n",
    "    f1_score = cross_val_score(clf, X, Y, scoring=\"f1\", cv = 5)\n",
    "    print(f1_score)\n",
    "    print(\"F1 Score (Mean): \", f1_score.mean())\n",
    "    print(\"Standard Error: \", f1_score.std())\n",
    "    \n",
    "    print(f'\\nPrecision')\n",
    "    pre = cross_val_score(clf, X, Y, scoring=\"precision\", cv = 5)\n",
    "    print(pre)\n",
    "    print(\"Precision (Mean): \", pre.mean())\n",
    "    print(\"Standard Error: \", pre.std())\n",
    "    \n",
    "    print(f'\\nSensitivity')\n",
    "    rec = cross_val_score(clf, X, Y, scoring=\"recall\", cv = 5)\n",
    "    print(rec)\n",
    "    print(\"Recall (Mean): \", rec.mean())\n",
    "    print(\"Standard Error: \", rec.std())"
   ]
  },
  {
   "cell_type": "markdown",
   "metadata": {},
   "source": [
    "# Train Test Split"
   ]
  },
  {
   "cell_type": "code",
   "execution_count": 11,
   "metadata": {},
   "outputs": [],
   "source": [
    "X_train, X_test, y_train, y_test = train_test_split(x, y, test_size=0.25, random_state=101)"
   ]
  },
  {
   "cell_type": "markdown",
   "metadata": {},
   "source": [
    "# Decision tree"
   ]
  },
  {
   "cell_type": "markdown",
   "metadata": {},
   "source": [
    "## Hyperparameter Tuning in Decision Trees"
   ]
  },
  {
   "cell_type": "code",
   "execution_count": 11,
   "metadata": {},
   "outputs": [],
   "source": [
    "def hyperParameterTuning_DecisionTree(features, labels):\n",
    "    params = {\n",
    "        \"max_features\": [\"auto\", \"sqrt\", \"log2\"],\n",
    "        \"min_samples_leaf\": [3, 4, 5],\n",
    "        \"min_samples_split\": [8, 10, 12],\n",
    "        \"criterion\": [\"gini\", \"entropy\"],\n",
    "        \"max_depth\": [10, 20, 30, 40, 50],\n",
    "        \"random_state\": [10, 20, 30, 40, 50]\n",
    "    }\n",
    "    \n",
    "    rf_model = DecisionTreeClassifier()\n",
    "    \n",
    "    gsearch = GridSearchCV(estimator = rf_model, param_grid = params, cv = 5, n_jobs = -1, verbose = 1)\n",
    "    \n",
    "    gsearch.fit(features,labels)\n",
    "    \n",
    "    return gsearch.best_params_"
   ]
  },
  {
   "cell_type": "code",
   "execution_count": 12,
   "metadata": {},
   "outputs": [
    {
     "name": "stdout",
     "output_type": "stream",
     "text": [
      "Fitting 5 folds for each of 1350 candidates, totalling 6750 fits\n"
     ]
    },
    {
     "data": {
      "text/plain": [
       "{'criterion': 'entropy',\n",
       " 'max_depth': 20,\n",
       " 'max_features': 'auto',\n",
       " 'min_samples_leaf': 3,\n",
       " 'min_samples_split': 10,\n",
       " 'random_state': 10}"
      ]
     },
     "execution_count": 12,
     "metadata": {},
     "output_type": "execute_result"
    }
   ],
   "source": [
    "hyperParameterTuning_DecisionTree(X_train, y_train)"
   ]
  },
  {
   "cell_type": "code",
   "execution_count": 12,
   "metadata": {},
   "outputs": [],
   "source": [
    "clf_tree = DecisionTreeClassifier(criterion='entropy', max_depth=20, max_features='auto',\n",
    "                                      min_samples_leaf = 3, min_samples_split = 10, random_state = 10)"
   ]
  },
  {
   "cell_type": "code",
   "execution_count": 13,
   "metadata": {},
   "outputs": [
    {
     "name": "stdout",
     "output_type": "stream",
     "text": [
      "Accuracy\n",
      "[0.88788427 0.91500904 0.89511754 0.92224231 0.88768116]\n",
      "Accuracy Score (Mean):  0.9015868647954506\n",
      "Standard Error:  0.014351197887091667\n",
      "\n",
      "F1 Score\n",
      "[0.89935065 0.9248     0.90880503 0.93141946 0.89869281]\n",
      "F1 Score (Mean):  0.9126135897979907\n",
      "Standard Error:  0.01331441373818212\n",
      "\n",
      "Precision\n",
      "[0.90522876 0.91746032 0.88650307 0.91823899 0.90759076]\n",
      "Precision (Mean):  0.9070043791803029\n",
      "Standard Error:  0.01148341117924573\n",
      "\n",
      "Sensitivity\n",
      "[0.89354839 0.93225806 0.93225806 0.94498382 0.88996764]\n",
      "Recall (Mean):  0.9186031944879423\n",
      "Standard Error:  0.022434735494753753\n"
     ]
    }
   ],
   "source": [
    "evaluation(clf_tree, X_test, y_test)"
   ]
  },
  {
   "cell_type": "markdown",
   "metadata": {},
   "source": [
    "# K-Nearest Neighbors"
   ]
  },
  {
   "cell_type": "code",
   "execution_count": 14,
   "metadata": {},
   "outputs": [],
   "source": [
    "def hyperParameterTuning_KNN(features, labels):\n",
    "    params = {\n",
    "        \"n_neighbors\": [3, 5, 8, 10, 13],\n",
    "        \"weights\": [\"uniform\", \"distance\"],\n",
    "        \"algorithm\": [\"auto\", \"ball_tree\", \"kd_tree\"],\n",
    "        \"metric\": [\"minkowski\", \"euclidean\", \"manhattan\"],\n",
    "        \"p\": [1, 2, 3, 4, 5]\n",
    "    }\n",
    "    \n",
    "    rf_model = KNeighborsClassifier()\n",
    "    \n",
    "    gsearch = GridSearchCV(estimator = rf_model, param_grid = params, cv = 5, n_jobs = -1, verbose = 1)\n",
    "    \n",
    "    gsearch.fit(features,labels)\n",
    "    \n",
    "    return gsearch.best_params_\n"
   ]
  },
  {
   "cell_type": "code",
   "execution_count": 19,
   "metadata": {},
   "outputs": [
    {
     "name": "stdout",
     "output_type": "stream",
     "text": [
      "Fitting 5 folds for each of 450 candidates, totalling 2250 fits\n"
     ]
    },
    {
     "data": {
      "text/plain": [
       "{'algorithm': 'ball_tree',\n",
       " 'metric': 'minkowski',\n",
       " 'n_neighbors': 13,\n",
       " 'p': 1,\n",
       " 'weights': 'distance'}"
      ]
     },
     "execution_count": 19,
     "metadata": {},
     "output_type": "execute_result"
    }
   ],
   "source": [
    "hyperParameterTuning_KNN(X_train, y_train)"
   ]
  },
  {
   "cell_type": "code",
   "execution_count": 15,
   "metadata": {},
   "outputs": [],
   "source": [
    "clf_KNN = KNeighborsClassifier(algorithm = \"ball_tree\", metric = \"minkowski\", n_neighbors = 13, p = 1, weights = \"distance\")"
   ]
  },
  {
   "cell_type": "code",
   "execution_count": 16,
   "metadata": {},
   "outputs": [
    {
     "name": "stdout",
     "output_type": "stream",
     "text": [
      "Accuracy\n",
      "[0.94575045 0.94213382 0.92947559 0.93851718 0.93478261]\n",
      "Accuracy Score (Mean):  0.9381319286107399\n",
      "Standard Error:  0.00566313691534265\n",
      "\n",
      "F1 Score\n",
      "[0.95192308 0.94936709 0.93739968 0.94620253 0.94303797]\n",
      "F1 Score (Mean):  0.9455860701664995\n",
      "Standard Error:  0.005066430127968962\n",
      "\n",
      "Precision\n",
      "[0.94585987 0.93167702 0.93290735 0.92569659 0.92260062]\n",
      "Precision (Mean):  0.9317482906220217\n",
      "Standard Error:  0.00800984593958226\n",
      "\n",
      "Sensitivity\n",
      "[0.95806452 0.96774194 0.94193548 0.96763754 0.96440129]\n",
      "Recall (Mean):  0.9599561540870655\n",
      "Standard Error:  0.009671651471601895\n"
     ]
    }
   ],
   "source": [
    "evaluation(clf_KNN, X_test, y_test)"
   ]
  },
  {
   "cell_type": "markdown",
   "metadata": {},
   "source": [
    "# Random Forest  "
   ]
  },
  {
   "cell_type": "code",
   "execution_count": 17,
   "metadata": {},
   "outputs": [],
   "source": [
    "def hyperParameterTuning_RF(features, labels):\n",
    "    params = {\n",
    "        \"n_estimators\": [30, 50, 70, 100],\n",
    "        \"criterion\": [\"gini\", \"entropy\"],\n",
    "        \"max_depth\": [10, 20, 30, 40, 50],\n",
    "        \"random_state\": [10, 20, 30, 40, 50]\n",
    "    }\n",
    "    \n",
    "    rf_model = RandomForestClassifier()\n",
    "    \n",
    "    gsearch = GridSearchCV(estimator = rf_model, param_grid = params, cv = 5, n_jobs = -1, verbose = 1)\n",
    "    \n",
    "    gsearch.fit(features,labels)\n",
    "    \n",
    "    return gsearch.best_params_"
   ]
  },
  {
   "cell_type": "code",
   "execution_count": 22,
   "metadata": {},
   "outputs": [
    {
     "name": "stdout",
     "output_type": "stream",
     "text": [
      "Fitting 5 folds for each of 200 candidates, totalling 1000 fits\n"
     ]
    },
    {
     "data": {
      "text/plain": [
       "{'criterion': 'entropy',\n",
       " 'max_depth': 30,\n",
       " 'n_estimators': 50,\n",
       " 'random_state': 20}"
      ]
     },
     "execution_count": 22,
     "metadata": {},
     "output_type": "execute_result"
    }
   ],
   "source": [
    "hyperParameterTuning_RF(X_train, y_train)"
   ]
  },
  {
   "cell_type": "code",
   "execution_count": 18,
   "metadata": {},
   "outputs": [],
   "source": [
    "clf_rf = RandomForestClassifier(criterion='entropy', max_depth=30, n_estimators=50, random_state=20)"
   ]
  },
  {
   "cell_type": "code",
   "execution_count": 19,
   "metadata": {},
   "outputs": [
    {
     "name": "stdout",
     "output_type": "stream",
     "text": [
      "Accuracy\n",
      "[0.94755877 0.96202532 0.94394213 0.96202532 0.95471014]\n",
      "Accuracy Score (Mean):  0.9540523363996121\n",
      "Standard Error:  0.00737498651420638\n",
      "\n",
      "F1 Score\n",
      "[0.95389507 0.96618357 0.95008052 0.96629213 0.95987159]\n",
      "F1 Score (Mean):  0.9592645771271593\n",
      "Standard Error:  0.0064931678340952575\n",
      "\n",
      "Precision\n",
      "[0.94043887 0.96463023 0.94855305 0.95859873 0.9522293 ]\n",
      "Precision (Mean):  0.9528900353387654\n",
      "Standard Error:  0.00830299536991534\n",
      "\n",
      "Sensitivity\n",
      "[0.96774194 0.96774194 0.9516129  0.97411003 0.96763754]\n",
      "Recall (Mean):  0.9657688694018164\n",
      "Standard Error:  0.007499923852126231\n"
     ]
    }
   ],
   "source": [
    "evaluation(clf_rf, X_test, y_test)"
   ]
  },
  {
   "cell_type": "markdown",
   "metadata": {},
   "source": [
    "# Support Vector Machine"
   ]
  },
  {
   "cell_type": "code",
   "execution_count": 20,
   "metadata": {},
   "outputs": [],
   "source": [
    "def hyperParameterTuning_SVC(features, labels):\n",
    "    params = {\n",
    "        \"kernel\": [\"linear\", \"poly\", \"rbf\", \"sigmoid\"],\n",
    "        \"C\": [1, 3, 5],\n",
    "        \"random_state\": [10, 20, 30, 40, 50]\n",
    "    }\n",
    "    \n",
    "    rf_model = SVC()\n",
    "    \n",
    "    gsearch = GridSearchCV(estimator = rf_model, param_grid = params, cv = 5, n_jobs = -1, verbose = 1)\n",
    "    \n",
    "    gsearch.fit(features,labels)\n",
    "    \n",
    "    return gsearch.best_params_"
   ]
  },
  {
   "cell_type": "code",
   "execution_count": 22,
   "metadata": {},
   "outputs": [
    {
     "name": "stdout",
     "output_type": "stream",
     "text": [
      "Fitting 5 folds for each of 60 candidates, totalling 300 fits\n"
     ]
    },
    {
     "data": {
      "text/plain": [
       "{'C': 5, 'kernel': 'rbf', 'random_state': 10}"
      ]
     },
     "execution_count": 22,
     "metadata": {},
     "output_type": "execute_result"
    }
   ],
   "source": [
    "hyperParameterTuning_SVC(X_train, y_train)"
   ]
  },
  {
   "cell_type": "code",
   "execution_count": 23,
   "metadata": {},
   "outputs": [],
   "source": [
    "clf_svm = SVC(random_state = 10, kernel = 'rbf', C = 5)"
   ]
  },
  {
   "cell_type": "code",
   "execution_count": 24,
   "metadata": {},
   "outputs": [
    {
     "name": "stdout",
     "output_type": "stream",
     "text": [
      "Accuracy\n",
      "[0.93851718 0.93851718 0.93670886 0.93851718 0.94202899]\n",
      "Accuracy Score (Mean):  0.9388578766674529\n",
      "Standard Error:  0.001733345049333595\n",
      "\n",
      "F1 Score\n",
      "[0.94444444 0.94620253 0.94363929 0.94654088 0.9483871 ]\n",
      "F1 Score (Mean):  0.9458428489665461\n",
      "Standard Error:  0.0016673942203798838\n",
      "\n",
      "Precision\n",
      "[0.95695364 0.92857143 0.94212219 0.9204893  0.94533762]\n",
      "Precision (Mean):  0.9386948349331151\n",
      "Standard Error:  0.01283107454927292\n",
      "\n",
      "Sensitivity\n",
      "[0.93225806 0.96451613 0.94516129 0.97411003 0.95145631]\n",
      "Recall (Mean):  0.9535003653826077\n",
      "Standard Error:  0.014635976908925196\n"
     ]
    }
   ],
   "source": [
    "evaluation(clf_svm, X_test, y_test)"
   ]
  },
  {
   "cell_type": "markdown",
   "metadata": {},
   "source": [
    "# Artificial Neural Network"
   ]
  },
  {
   "cell_type": "code",
   "execution_count": 27,
   "metadata": {},
   "outputs": [],
   "source": [
    "def hyperParameterTuning_MLP(features, labels):\n",
    "    params = {\n",
    "        \"hidden_layer_sizes\": [(50,50,50), (50,100,50), (100,)],\n",
    "        \"activation\": ['tanh', 'relu'],\n",
    "        \"max_iter\": [500, 600, 800, 1000],\n",
    "        \"learning_rate\": ['constant','adaptive', \"invscaling\"],\n",
    "        \"random_state\": [10, 20, 30, 40, 50]\n",
    "    }\n",
    "    \n",
    "    rf_model = MLPClassifier()\n",
    "    \n",
    "    gsearch = GridSearchCV(estimator = rf_model, param_grid = params, cv = 5, n_jobs = -1, verbose = 1)\n",
    "    \n",
    "    gsearch.fit(features,labels)\n",
    "    \n",
    "    return gsearch.best_params_"
   ]
  },
  {
   "cell_type": "code",
   "execution_count": 28,
   "metadata": {},
   "outputs": [
    {
     "name": "stdout",
     "output_type": "stream",
     "text": [
      "Fitting 5 folds for each of 360 candidates, totalling 1800 fits\n"
     ]
    },
    {
     "data": {
      "text/plain": [
       "{'activation': 'tanh',\n",
       " 'hidden_layer_sizes': (100,),\n",
       " 'learning_rate': 'constant',\n",
       " 'max_iter': 500,\n",
       " 'random_state': 20}"
      ]
     },
     "execution_count": 28,
     "metadata": {},
     "output_type": "execute_result"
    }
   ],
   "source": [
    "hyperParameterTuning_MLP(X_train, y_train)"
   ]
  },
  {
   "cell_type": "code",
   "execution_count": 29,
   "metadata": {},
   "outputs": [],
   "source": [
    "clf_mlp = MLPClassifier(activation = \"tanh\", hidden_layer_sizes = (100, ), learning_rate = \"constant\", \n",
    "                         max_iter = 500, random_state = 20) "
   ]
  },
  {
   "cell_type": "code",
   "execution_count": null,
   "metadata": {},
   "outputs": [
    {
     "name": "stdout",
     "output_type": "stream",
     "text": [
      "Accuracy\n"
     ]
    },
    {
     "name": "stderr",
     "output_type": "stream",
     "text": [
      "C:\\Users\\SAFIAL ISLAM AYON\\Anaconda3\\lib\\site-packages\\sklearn\\neural_network\\_multilayer_perceptron.py:692: ConvergenceWarning: Stochastic Optimizer: Maximum iterations (500) reached and the optimization hasn't converged yet.\n",
      "  warnings.warn(\n",
      "C:\\Users\\SAFIAL ISLAM AYON\\Anaconda3\\lib\\site-packages\\sklearn\\neural_network\\_multilayer_perceptron.py:692: ConvergenceWarning: Stochastic Optimizer: Maximum iterations (500) reached and the optimization hasn't converged yet.\n",
      "  warnings.warn(\n",
      "C:\\Users\\SAFIAL ISLAM AYON\\Anaconda3\\lib\\site-packages\\sklearn\\neural_network\\_multilayer_perceptron.py:692: ConvergenceWarning: Stochastic Optimizer: Maximum iterations (500) reached and the optimization hasn't converged yet.\n",
      "  warnings.warn(\n"
     ]
    },
    {
     "name": "stdout",
     "output_type": "stream",
     "text": [
      "[0.93309222 0.94213382 0.93490054 0.9403255  0.93478261]\n",
      "Accuracy Score (Mean):  0.9370469376523312\n",
      "Standard Error:  0.0035213416783245943\n",
      "\n",
      "F1 Score\n"
     ]
    },
    {
     "name": "stderr",
     "output_type": "stream",
     "text": [
      "C:\\Users\\SAFIAL ISLAM AYON\\Anaconda3\\lib\\site-packages\\sklearn\\neural_network\\_multilayer_perceptron.py:692: ConvergenceWarning: Stochastic Optimizer: Maximum iterations (500) reached and the optimization hasn't converged yet.\n",
      "  warnings.warn(\n",
      "C:\\Users\\SAFIAL ISLAM AYON\\Anaconda3\\lib\\site-packages\\sklearn\\neural_network\\_multilayer_perceptron.py:692: ConvergenceWarning: Stochastic Optimizer: Maximum iterations (500) reached and the optimization hasn't converged yet.\n",
      "  warnings.warn(\n",
      "C:\\Users\\SAFIAL ISLAM AYON\\Anaconda3\\lib\\site-packages\\sklearn\\neural_network\\_multilayer_perceptron.py:692: ConvergenceWarning: Stochastic Optimizer: Maximum iterations (500) reached and the optimization hasn't converged yet.\n",
      "  warnings.warn(\n"
     ]
    },
    {
     "name": "stdout",
     "output_type": "stream",
     "text": [
      "[0.93944354 0.94855305 0.94230769 0.94753577 0.94193548]\n",
      "F1 Score (Mean):  0.9439551074188877\n",
      "Standard Error:  0.003495980858594808\n",
      "\n",
      "Precision\n"
     ]
    },
    {
     "name": "stderr",
     "output_type": "stream",
     "text": [
      "C:\\Users\\SAFIAL ISLAM AYON\\Anaconda3\\lib\\site-packages\\sklearn\\neural_network\\_multilayer_perceptron.py:692: ConvergenceWarning: Stochastic Optimizer: Maximum iterations (500) reached and the optimization hasn't converged yet.\n",
      "  warnings.warn(\n",
      "C:\\Users\\SAFIAL ISLAM AYON\\Anaconda3\\lib\\site-packages\\sklearn\\neural_network\\_multilayer_perceptron.py:692: ConvergenceWarning: Stochastic Optimizer: Maximum iterations (500) reached and the optimization hasn't converged yet.\n",
      "  warnings.warn(\n"
     ]
    }
   ],
   "source": [
    "evaluation(clf_mlp, X_test, y_test)"
   ]
  },
  {
   "cell_type": "markdown",
   "metadata": {},
   "source": [
    "# ROC Curve"
   ]
  },
  {
   "cell_type": "code",
   "execution_count": null,
   "metadata": {},
   "outputs": [],
   "source": [
    "def roc_curve_normal(X, Y):\n",
    "    X_train, X_test, y_train, y_test = train_test_split(X, Y, test_size = 0.25)\n",
    "    \n",
    "    clf_tree = DecisionTreeClassifier(criterion='entropy', max_depth=20, max_features='auto',\n",
    "                                      min_samples_leaf = 3, min_samples_split = 10, random_state = 10)\n",
    "    clf_tree.fit(X_train, y_train)\n",
    "    #Curve Point\n",
    "    #y_score1 = clf_random.predict_proba(X_test)[:,1]\n",
    "    #false_positive_rate1, true_positive_rate1, threshold1 = roc_curve(y_test, y_score1)\n",
    "    #print(false_positive_rate1, true_positive_rate1, threshold1)\n",
    "    \n",
    "    #X_train, X_test, y_train, y_test = train_test_split(X, Y, test_size = 0.25)\n",
    "    clf_KNN = KNeighborsClassifier(algorithm = \"ball_tree\", metric = \"minkowski\", n_neighbors = 13, p = 1, weights = \"distance\")\n",
    "    clf_KNN.fit(X_train, y_train)\n",
    "    \n",
    "    clf_rf = RandomForestClassifier(criterion='entropy', max_depth=30, n_estimators=50, random_state=20)\n",
    "    clf_rf.fit(X_train, y_train)\n",
    "    \n",
    "    clf_svm = SVC(random_state = 10, kernel = 'rbf', C = 5)\n",
    "    clf_svm.fit(X_train, y_train)\n",
    "    \n",
    "    clf_mlp = MLPClassifier(activation = \"tanh\", hidden_layer_sizes = (50, 100, 50), learning_rate = \"constant\", \n",
    "                         max_iter = 500, random_state = 30) \n",
    "    clf_mlp.fit(X_train, y_train)\n",
    "    \n",
    "    \n",
    "    ax = plt.gca()\n",
    "    \n",
    "    clf_tree_disp = plot_roc_curve(clf_tree, X_test, y_test, ax=ax, alpha=0.8)\n",
    "    clf_KNN_disp  = plot_roc_curve(clf_KNN, X_test, y_test, ax=ax, alpha=0.8)\n",
    "    clf_rf_disp   = plot_roc_curve(clf_rf, X_test, y_test, ax=ax, alpha=0.8)\n",
    "    clf_svm_disp  = plot_roc_curve(clf_svm, X_test, y_test, ax=ax, alpha=0.8)\n",
    "    clf_mlp_disp  = plot_roc_curve(clf_mlp, X_test, y_test, ax=ax, alpha=0.8)\n",
    "    \n",
    "    ax.figure.set_size_inches(20, 12)\n",
    "    plt.show()"
   ]
  },
  {
   "cell_type": "code",
   "execution_count": null,
   "metadata": {},
   "outputs": [],
   "source": [
    "roc_curve_normal(x, y) "
   ]
  }
 ],
 "metadata": {
  "kernelspec": {
   "display_name": "Python 3",
   "language": "python",
   "name": "python3"
  },
  "language_info": {
   "codemirror_mode": {
    "name": "ipython",
    "version": 3
   },
   "file_extension": ".py",
   "mimetype": "text/x-python",
   "name": "python",
   "nbconvert_exporter": "python",
   "pygments_lexer": "ipython3",
   "version": "3.8.8"
  }
 },
 "nbformat": 4,
 "nbformat_minor": 4
}
