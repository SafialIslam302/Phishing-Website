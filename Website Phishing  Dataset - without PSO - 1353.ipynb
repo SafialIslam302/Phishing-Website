{
 "cells": [
  {
   "cell_type": "code",
   "execution_count": 1,
   "metadata": {},
   "outputs": [],
   "source": [
    "import math\n",
    "import tensorflow as tf\n",
    "from sklearn import tree\n",
    "from statistics import mean\n",
    "from sklearn import metrics\n",
    "from keras.models import Sequential\n",
    "from keras.layers import Dense, Dropout\n",
    "from sklearn.tree import DecisionTreeClassifier\n",
    "from sklearn.preprocessing import StandardScaler\n",
    "from sklearn.neural_network import MLPClassifier"
   ]
  },
  {
   "cell_type": "code",
   "execution_count": 30,
   "metadata": {},
   "outputs": [],
   "source": [
    "import pandas as pd\n",
    "import numpy as np\n",
    "import matplotlib.pyplot as plt\n",
    "from numpy.random import random\n",
    "get_ipython().run_line_magic('matplotlib', 'inline')\n",
    "\n",
    "import sys\n",
    "import seaborn as sns\n",
    "\n",
    "from sklearn.model_selection import train_test_split, cross_val_score,KFold,StratifiedKFold, GridSearchCV\n",
    "from sklearn.metrics import confusion_matrix,accuracy_score,f1_score,average_precision_score,recall_score,roc_auc_score\n",
    "from sklearn.preprocessing import RobustScaler,StandardScaler,LabelEncoder,MinMaxScaler\n",
    "from sklearn.model_selection import KFold \n",
    "from sklearn.model_selection import RepeatedKFold\n",
    "\n",
    "from sklearn.svm import SVC\n",
    "from keras.models import Sequential\n",
    "from sklearn.metrics import plot_roc_curve\n",
    "from sklearn.linear_model import LogisticRegression\n",
    "from sklearn.neighbors import KNeighborsClassifier\n",
    "\n",
    "from sklearn.feature_selection import SelectKBest,chi2\n",
    "from sklearn.model_selection import train_test_split\n",
    "\n",
    "from keras.layers import Activation,BatchNormalization\n",
    "from keras.layers.core import Dense,Dropout\n",
    "from sklearn.metrics import plot_roc_curve\n",
    "from keras.metrics import categorical_crossentropy\n",
    "from keras.callbacks import ReduceLROnPlateau,EarlyStopping\n",
    "from sklearn.ensemble import RandomForestClassifier, AdaBoostClassifier, GradientBoostingClassifier\n",
    "\n"
   ]
  },
  {
   "cell_type": "code",
   "execution_count": 3,
   "metadata": {},
   "outputs": [],
   "source": [
    "Data = pd.read_csv(\"PhishingData.csv\",header=\"infer\")"
   ]
  },
  {
   "cell_type": "code",
   "execution_count": 4,
   "metadata": {},
   "outputs": [],
   "source": [
    "x=Data.iloc [:,1:-1]\n",
    "x=x.values\n",
    "y=Data.iloc[:,-1].values"
   ]
  },
  {
   "cell_type": "code",
   "execution_count": 5,
   "metadata": {},
   "outputs": [
    {
     "name": "stdout",
     "output_type": "stream",
     "text": [
      "9\n"
     ]
    }
   ],
   "source": [
    "dimension = Data.shape[1] - 1\n",
    "print(dimension)"
   ]
  },
  {
   "cell_type": "code",
   "execution_count": 6,
   "metadata": {},
   "outputs": [],
   "source": [
    "np.set_printoptions(threshold=sys.maxsize)\n",
    "#print(y)"
   ]
  },
  {
   "cell_type": "code",
   "execution_count": 7,
   "metadata": {},
   "outputs": [],
   "source": [
    "y = np.where(y >= 0, 1, -1)\n",
    "#print(y)"
   ]
  },
  {
   "cell_type": "markdown",
   "metadata": {},
   "source": [
    "# Evalution Function"
   ]
  },
  {
   "cell_type": "code",
   "execution_count": 8,
   "metadata": {},
   "outputs": [],
   "source": [
    "def evaluation(clf, X, Y):\n",
    "    print(f'Accuracy')\n",
    "    acc = cross_val_score(clf, X, Y, scoring=\"accuracy\", cv = 5)\n",
    "    print(acc)\n",
    "    print(\"Accuracy Score (Mean): \", acc.mean())\n",
    "    print(\"Standard Error: \", acc.std())\n",
    "    \n",
    "\n",
    "    print(f'\\nF1 Score')\n",
    "    f1_score = cross_val_score(clf, X, Y, scoring=\"f1\", cv = 5)\n",
    "    print(f1_score)\n",
    "    print(\"F1 Score (Mean): \", f1_score.mean())\n",
    "    print(\"Standard Error: \", f1_score.std())\n",
    "    \n",
    "    print(f'\\nPrecision')\n",
    "    pre = cross_val_score(clf, X, Y, scoring=\"precision\", cv = 5)\n",
    "    print(pre)\n",
    "    print(\"Precision (Mean): \", pre.mean())\n",
    "    print(\"Standard Error: \", pre.std())\n",
    "    \n",
    "    print(f'\\nSensitivity')\n",
    "    rec = cross_val_score(clf, X, Y, scoring=\"recall\", cv = 5)\n",
    "    print(rec)\n",
    "    print(\"Recall (Mean): \", rec.mean())\n",
    "    print(\"Standard Error: \", rec.std())\n",
    "    "
   ]
  },
  {
   "cell_type": "markdown",
   "metadata": {},
   "source": [
    "# Train Test Split"
   ]
  },
  {
   "cell_type": "code",
   "execution_count": 9,
   "metadata": {},
   "outputs": [],
   "source": [
    "X_train, X_test, y_train, y_test = train_test_split(x, y, test_size=0.25, random_state=101)"
   ]
  },
  {
   "cell_type": "markdown",
   "metadata": {},
   "source": [
    "# Decision tree"
   ]
  },
  {
   "cell_type": "markdown",
   "metadata": {},
   "source": [
    "## Hyperparameter Tuning in Decision Trees"
   ]
  },
  {
   "cell_type": "code",
   "execution_count": 10,
   "metadata": {},
   "outputs": [],
   "source": [
    "def hyperParameterTuning_DecisionTree(features, labels):\n",
    "    params = {\n",
    "        \"max_features\": [\"auto\", \"sqrt\", \"log2\"],\n",
    "        \"min_samples_leaf\": [3, 4, 5],\n",
    "        \"min_samples_split\": [8, 10, 12],\n",
    "        \"criterion\": [\"gini\", \"entropy\"],\n",
    "        \"max_depth\": [10, 20, 30, 40, 50],\n",
    "        \"random_state\": [10, 20, 30, 40, 50]\n",
    "    }\n",
    "    \n",
    "    rf_model = DecisionTreeClassifier()\n",
    "    \n",
    "    gsearch = GridSearchCV(estimator = rf_model, param_grid = params, cv = 5, n_jobs = -1, verbose = 1)\n",
    "    \n",
    "    gsearch.fit(features,labels)\n",
    "    \n",
    "    return gsearch.best_params_"
   ]
  },
  {
   "cell_type": "code",
   "execution_count": 11,
   "metadata": {},
   "outputs": [
    {
     "name": "stdout",
     "output_type": "stream",
     "text": [
      "Fitting 5 folds for each of 1350 candidates, totalling 6750 fits\n"
     ]
    },
    {
     "data": {
      "text/plain": [
       "{'criterion': 'gini',\n",
       " 'max_depth': 20,\n",
       " 'max_features': 'log2',\n",
       " 'min_samples_leaf': 5,\n",
       " 'min_samples_split': 12,\n",
       " 'random_state': 10}"
      ]
     },
     "execution_count": 11,
     "metadata": {},
     "output_type": "execute_result"
    }
   ],
   "source": [
    "hyperParameterTuning_DecisionTree(X_train, y_train)"
   ]
  },
  {
   "cell_type": "code",
   "execution_count": 11,
   "metadata": {},
   "outputs": [],
   "source": [
    "clf_tree = DecisionTreeClassifier(criterion='gini', max_depth=20, max_features='log2',\n",
    "                                      min_samples_leaf = 5, min_samples_split = 12, random_state = 10 )"
   ]
  },
  {
   "cell_type": "code",
   "execution_count": 12,
   "metadata": {},
   "outputs": [
    {
     "name": "stdout",
     "output_type": "stream",
     "text": [
      "Accuracy\n",
      "[0.88235294 0.80882353 0.89705882 0.80882353 0.76119403]\n",
      "Accuracy Score (Mean):  0.8316505706760318\n",
      "Standard Error:  0.05070550598607944\n",
      "\n",
      "F1 Score\n",
      "[0.87878788 0.77966102 0.8852459  0.77966102 0.73333333]\n",
      "F1 Score (Mean):  0.8113378295317724\n",
      "Standard Error:  0.060172177300261254\n",
      "\n",
      "Precision\n",
      "[0.80555556 0.79310345 0.87096774 0.79310345 0.70967742]\n",
      "Precision (Mean):  0.7944815226795205\n",
      "Standard Error:  0.05131921678871988\n",
      "\n",
      "Sensitivity\n",
      "[0.96666667 0.76666667 0.9        0.76666667 0.75862069]\n",
      "Recall (Mean):  0.8317241379310344\n",
      "Standard Error:  0.0856506190138484\n"
     ]
    }
   ],
   "source": [
    "evaluation(clf_tree, X_test, y_test)"
   ]
  },
  {
   "cell_type": "markdown",
   "metadata": {},
   "source": [
    "# K-Nearest Neighbors"
   ]
  },
  {
   "cell_type": "code",
   "execution_count": 13,
   "metadata": {},
   "outputs": [],
   "source": [
    "def hyperParameterTuning_KNN(features, labels):\n",
    "    params = {\n",
    "        \"n_neighbors\": [3, 5, 8, 10, 13],\n",
    "        \"weights\": [\"uniform\", \"distance\"],\n",
    "        \"algorithm\": [\"auto\", \"ball_tree\", \"kd_tree\"],\n",
    "        \"metric\": [\"minkowski\", \"euclidean\", \"manhattan\"],\n",
    "        \"p\": [1, 2, 3, 4, 5]\n",
    "    }\n",
    "    \n",
    "    rf_model = KNeighborsClassifier()\n",
    "    \n",
    "    gsearch = GridSearchCV(estimator = rf_model, param_grid = params, cv = 5, n_jobs = -1, verbose = 1)\n",
    "    \n",
    "    gsearch.fit(features,labels)\n",
    "    \n",
    "    return gsearch.best_params_"
   ]
  },
  {
   "cell_type": "code",
   "execution_count": 15,
   "metadata": {},
   "outputs": [
    {
     "name": "stdout",
     "output_type": "stream",
     "text": [
      "Fitting 5 folds for each of 450 candidates, totalling 2250 fits\n"
     ]
    },
    {
     "data": {
      "text/plain": [
       "{'algorithm': 'ball_tree',\n",
       " 'metric': 'minkowski',\n",
       " 'n_neighbors': 5,\n",
       " 'p': 1,\n",
       " 'weights': 'uniform'}"
      ]
     },
     "execution_count": 15,
     "metadata": {},
     "output_type": "execute_result"
    }
   ],
   "source": [
    "hyperParameterTuning_KNN(X_train, y_train)"
   ]
  },
  {
   "cell_type": "code",
   "execution_count": 14,
   "metadata": {},
   "outputs": [],
   "source": [
    "clf_KNN = KNeighborsClassifier(algorithm = \"ball_tree\", metric = \"minkowski\", n_neighbors = 5, p = 1, weights = \"uniform\")"
   ]
  },
  {
   "cell_type": "code",
   "execution_count": 15,
   "metadata": {},
   "outputs": [
    {
     "name": "stdout",
     "output_type": "stream",
     "text": [
      "Accuracy\n",
      "[0.86764706 0.73529412 0.89705882 0.82352941 0.79104478]\n",
      "Accuracy Score (Mean):  0.8229148375768217\n",
      "Standard Error:  0.056906539782953396\n",
      "\n",
      "F1 Score\n",
      "[0.86153846 0.7        0.8852459  0.79310345 0.77419355]\n",
      "F1 Score (Mean):  0.8028162719681531\n",
      "Standard Error:  0.06592074700178284\n",
      "\n",
      "Precision\n",
      "[0.8        0.7        0.87096774 0.82142857 0.72727273]\n",
      "Precision (Mean):  0.7839338081273566\n",
      "Standard Error:  0.062440768190013415\n",
      "\n",
      "Sensitivity\n",
      "[0.93333333 0.7        0.9        0.76666667 0.82758621]\n",
      "Recall (Mean):  0.8255172413793103\n",
      "Standard Error:  0.08531616454316067\n"
     ]
    }
   ],
   "source": [
    "evaluation(clf_KNN, X_test, y_test)"
   ]
  },
  {
   "cell_type": "markdown",
   "metadata": {},
   "source": [
    "# Random Forest  "
   ]
  },
  {
   "cell_type": "code",
   "execution_count": 16,
   "metadata": {},
   "outputs": [],
   "source": [
    "def hyperParameterTuning_RF(features, labels):\n",
    "    params = {\n",
    "        \"n_estimators\": [30, 50, 70, 100],\n",
    "        \"criterion\": [\"gini\", \"entropy\"],\n",
    "        \"max_depth\": [10, 20, 30, 40, 50],\n",
    "        \"random_state\": [10, 20, 30, 40, 50]\n",
    "    }\n",
    "    \n",
    "    rf_model = RandomForestClassifier()\n",
    "    \n",
    "    gsearch = GridSearchCV(estimator = rf_model, param_grid = params, cv = 5, n_jobs = -1, verbose = 1)\n",
    "    \n",
    "    gsearch.fit(features,labels)\n",
    "    \n",
    "    return gsearch.best_params_"
   ]
  },
  {
   "cell_type": "code",
   "execution_count": 19,
   "metadata": {},
   "outputs": [
    {
     "name": "stdout",
     "output_type": "stream",
     "text": [
      "Fitting 5 folds for each of 200 candidates, totalling 1000 fits\n"
     ]
    },
    {
     "data": {
      "text/plain": [
       "{'criterion': 'entropy',\n",
       " 'max_depth': 10,\n",
       " 'n_estimators': 100,\n",
       " 'random_state': 10}"
      ]
     },
     "execution_count": 19,
     "metadata": {},
     "output_type": "execute_result"
    }
   ],
   "source": [
    "hyperParameterTuning_RF(X_train, y_train)"
   ]
  },
  {
   "cell_type": "code",
   "execution_count": 17,
   "metadata": {},
   "outputs": [],
   "source": [
    "clf_rf = RandomForestClassifier(criterion='entropy', max_depth=10, n_estimators=100, random_state=10)"
   ]
  },
  {
   "cell_type": "code",
   "execution_count": 18,
   "metadata": {},
   "outputs": [
    {
     "name": "stdout",
     "output_type": "stream",
     "text": [
      "Accuracy\n",
      "[0.91176471 0.83823529 0.85294118 0.82352941 0.80597015]\n",
      "Accuracy Score (Mean):  0.8464881474978052\n",
      "Standard Error:  0.0361651544294734\n",
      "\n",
      "F1 Score\n",
      "[0.90322581 0.79245283 0.83870968 0.79310345 0.8       ]\n",
      "F1 Score (Mean):  0.8254983524671019\n",
      "Standard Error:  0.04244454864563457\n",
      "\n",
      "Precision\n",
      "[0.875      0.91304348 0.8125     0.82142857 0.72222222]\n",
      "Precision (Mean):  0.8288388543823327\n",
      "Standard Error:  0.0646687664277084\n",
      "\n",
      "Sensitivity\n",
      "[0.93333333 0.7        0.86666667 0.76666667 0.89655172]\n",
      "Recall (Mean):  0.8326436781609197\n",
      "Standard Error:  0.08640314826205352\n"
     ]
    }
   ],
   "source": [
    "evaluation(clf_rf, X_test, y_test)"
   ]
  },
  {
   "cell_type": "markdown",
   "metadata": {},
   "source": [
    "# Support Vector Machine"
   ]
  },
  {
   "cell_type": "code",
   "execution_count": 19,
   "metadata": {},
   "outputs": [],
   "source": [
    "def hyperParameterTuning_SVC(features, labels):\n",
    "    params = {\n",
    "        \"kernel\": [\"linear\", \"poly\", \"rbf\", \"sigmoid\"],\n",
    "        \"C\": [1, 3, 5],\n",
    "        \"random_state\": [10, 20, 30, 40, 50]\n",
    "    }\n",
    "    \n",
    "    rf_model = SVC()\n",
    "    \n",
    "    gsearch = GridSearchCV(estimator = rf_model, param_grid = params, cv = 5, n_jobs = -1, verbose = 1)\n",
    "    \n",
    "    gsearch.fit(features,labels)\n",
    "    \n",
    "    return gsearch.best_params_"
   ]
  },
  {
   "cell_type": "code",
   "execution_count": 23,
   "metadata": {},
   "outputs": [
    {
     "name": "stdout",
     "output_type": "stream",
     "text": [
      "Fitting 5 folds for each of 60 candidates, totalling 300 fits\n"
     ]
    },
    {
     "data": {
      "text/plain": [
       "{'C': 5, 'kernel': 'rbf', 'random_state': 10}"
      ]
     },
     "execution_count": 23,
     "metadata": {},
     "output_type": "execute_result"
    }
   ],
   "source": [
    "hyperParameterTuning_SVC(X_train, y_train)"
   ]
  },
  {
   "cell_type": "code",
   "execution_count": 20,
   "metadata": {},
   "outputs": [],
   "source": [
    "clf_svm = SVC(random_state = 10, kernel = 'rbf', C = 5)"
   ]
  },
  {
   "cell_type": "code",
   "execution_count": 21,
   "metadata": {},
   "outputs": [
    {
     "name": "stdout",
     "output_type": "stream",
     "text": [
      "Accuracy\n",
      "[0.88235294 0.80882353 0.77941176 0.83823529 0.82089552]\n",
      "Accuracy Score (Mean):  0.8259438103599649\n",
      "Standard Error:  0.034108330702000714\n",
      "\n",
      "F1 Score\n",
      "[0.87878788 0.75471698 0.74576271 0.80701754 0.80645161]\n",
      "F1 Score (Mean):  0.7985473457094472\n",
      "Standard Error:  0.04749754367212168\n",
      "\n",
      "Precision\n",
      "[0.80555556 0.86956522 0.75862069 0.85185185 0.75757576]\n",
      "Precision (Mean):  0.8086338144059285\n",
      "Standard Error:  0.04625613066956867\n",
      "\n",
      "Sensitivity\n",
      "[0.96666667 0.66666667 0.73333333 0.76666667 0.86206897]\n",
      "Recall (Mean):  0.799080459770115\n",
      "Standard Error:  0.10484220507059143\n"
     ]
    }
   ],
   "source": [
    "evaluation(clf_svm, X_test, y_test)"
   ]
  },
  {
   "cell_type": "markdown",
   "metadata": {},
   "source": [
    "# Artificial Neural Network"
   ]
  },
  {
   "cell_type": "code",
   "execution_count": 25,
   "metadata": {},
   "outputs": [],
   "source": [
    "def hyperParameterTuning_MLP(features, labels):\n",
    "    params = {\n",
    "        \"hidden_layer_sizes\": [(50,50,50), (50,100,50), (100,)],\n",
    "        \"activation\": ['tanh', 'relu'],\n",
    "        \"max_iter\": [500, 600, 800, 1000],\n",
    "        \"learning_rate\": ['constant','adaptive', \"invscaling\"],\n",
    "        \"random_state\": [10, 20, 30, 40, 50]\n",
    "    }\n",
    "    \n",
    "    rf_model = MLPClassifier()\n",
    "    \n",
    "    gsearch = GridSearchCV(estimator = rf_model, param_grid = params, cv = 5, n_jobs = -1, verbose = 1)\n",
    "    \n",
    "    gsearch.fit(features,labels)\n",
    "    \n",
    "    return gsearch.best_params_"
   ]
  },
  {
   "cell_type": "code",
   "execution_count": 37,
   "metadata": {},
   "outputs": [
    {
     "name": "stdout",
     "output_type": "stream",
     "text": [
      "Fitting 5 folds for each of 360 candidates, totalling 1800 fits\n"
     ]
    },
    {
     "data": {
      "text/plain": [
       "{'activation': 'tanh',\n",
       " 'hidden_layer_sizes': (50, 100, 50),\n",
       " 'learning_rate': 'constant',\n",
       " 'max_iter': 500,\n",
       " 'random_state': 30}"
      ]
     },
     "execution_count": 37,
     "metadata": {},
     "output_type": "execute_result"
    }
   ],
   "source": [
    "hyperParameterTuning_MLP(X_train, y_train)"
   ]
  },
  {
   "cell_type": "code",
   "execution_count": 26,
   "metadata": {},
   "outputs": [],
   "source": [
    "clf_mlp = MLPClassifier(activation = \"tanh\", hidden_layer_sizes = (50, 100, 50), learning_rate = \"constant\", \n",
    "                         max_iter = 500, random_state = 30) "
   ]
  },
  {
   "cell_type": "code",
   "execution_count": 27,
   "metadata": {},
   "outputs": [
    {
     "name": "stdout",
     "output_type": "stream",
     "text": [
      "Accuracy\n",
      "[0.86764706 0.76470588 0.75       0.80882353 0.82089552]\n",
      "Accuracy Score (Mean):  0.8024143985952591\n",
      "Standard Error:  0.04196934650962467\n",
      "\n",
      "F1 Score\n",
      "[0.85245902 0.7037037  0.73015873 0.77966102 0.80645161]\n",
      "F1 Score (Mean):  0.774486816021651\n",
      "Standard Error:  0.05311009849628017\n",
      "\n",
      "Precision\n",
      "[0.83870968 0.79166667 0.6969697  0.79310345 0.75757576]\n",
      "Precision (Mean):  0.7756050493814677\n",
      "Standard Error:  0.04702113908748374\n",
      "\n",
      "Sensitivity\n",
      "[0.86666667 0.63333333 0.76666667 0.76666667 0.86206897]\n",
      "Recall (Mean):  0.7790804597701149\n",
      "Standard Error:  0.08498101565370474\n"
     ]
    }
   ],
   "source": [
    "evaluation(clf_mlp, X_test, y_test)"
   ]
  },
  {
   "cell_type": "markdown",
   "metadata": {},
   "source": [
    "# ROC Curve"
   ]
  },
  {
   "cell_type": "code",
   "execution_count": 40,
   "metadata": {},
   "outputs": [],
   "source": [
    "def roc_curve_normal(X, Y):\n",
    "    X_train, X_test, y_train, y_test = train_test_split(X, Y, test_size = 0.25)\n",
    "    \n",
    "    clf_tree = DecisionTreeClassifier(criterion='gini', max_depth=20, max_features='log2',\n",
    "                                      min_samples_leaf = 5, min_samples_split = 12, random_state = 10 )\n",
    "    clf_tree.fit(X_train, y_train)\n",
    "    #Curve Point\n",
    "    #y_score1 = clf_random.predict_proba(X_test)[:,1]\n",
    "    #false_positive_rate1, true_positive_rate1, threshold1 = roc_curve(y_test, y_score1)\n",
    "    #print(false_positive_rate1, true_positive_rate1, threshold1)\n",
    "    \n",
    "    #X_train, X_test, y_train, y_test = train_test_split(X, Y, test_size = 0.25)\n",
    "    clf_KNN = KNeighborsClassifier(algorithm = \"ball_tree\", metric = \"minkowski\", n_neighbors = 5, p = 1, weights = \"uniform\")\n",
    "    clf_KNN.fit(X_train, y_train)\n",
    "    \n",
    "    clf_rf = RandomForestClassifier(criterion='entropy', max_depth=10, n_estimators=100, random_state=10)\n",
    "    clf_rf.fit(X_train, y_train)\n",
    "    \n",
    "    clf_svm = SVC(random_state = 10, kernel = 'rbf', C = 5)\n",
    "    clf_svm.fit(X_train, y_train)\n",
    "    \n",
    "    clf_mlp = MLPClassifier(activation = \"tanh\", hidden_layer_sizes = (50, 100, 50), learning_rate = \"constant\", \n",
    "                         max_iter = 500, random_state = 30) \n",
    "    clf_mlp.fit(X_train, y_train)\n",
    "    \n",
    "    \n",
    "    ax = plt.gca()\n",
    "    \n",
    "    clf_tree_disp = plot_roc_curve(clf_tree, X_test, y_test, ax=ax, alpha=0.8)\n",
    "    clf_KNN_disp  = plot_roc_curve(clf_KNN, X_test, y_test, ax=ax, alpha=0.8)\n",
    "    clf_rf_disp   = plot_roc_curve(clf_rf, X_test, y_test, ax=ax, alpha=0.8)\n",
    "    clf_svm_disp  = plot_roc_curve(clf_svm, X_test, y_test, ax=ax, alpha=0.8)\n",
    "    clf_mlp_disp  = plot_roc_curve(clf_mlp, X_test, y_test, ax=ax, alpha=0.8)\n",
    "    \n",
    "    ax.figure.set_size_inches(20, 12)\n",
    "    plt.show()"
   ]
  },
  {
   "cell_type": "code",
   "execution_count": 41,
   "metadata": {},
   "outputs": [
    {
     "name": "stderr",
     "output_type": "stream",
     "text": [
      "C:\\Users\\SAFIAL ISLAM AYON\\Anaconda3\\lib\\site-packages\\sklearn\\utils\\deprecation.py:87: FutureWarning: Function plot_roc_curve is deprecated; Function `plot_roc_curve` is deprecated in 1.0 and will be removed in 1.2. Use one of the class methods: RocCurveDisplay.from_predictions or RocCurveDisplay.from_estimator.\n",
      "  warnings.warn(msg, category=FutureWarning)\n",
      "C:\\Users\\SAFIAL ISLAM AYON\\Anaconda3\\lib\\site-packages\\sklearn\\utils\\deprecation.py:87: FutureWarning: Function plot_roc_curve is deprecated; Function `plot_roc_curve` is deprecated in 1.0 and will be removed in 1.2. Use one of the class methods: RocCurveDisplay.from_predictions or RocCurveDisplay.from_estimator.\n",
      "  warnings.warn(msg, category=FutureWarning)\n",
      "C:\\Users\\SAFIAL ISLAM AYON\\Anaconda3\\lib\\site-packages\\sklearn\\utils\\deprecation.py:87: FutureWarning: Function plot_roc_curve is deprecated; Function `plot_roc_curve` is deprecated in 1.0 and will be removed in 1.2. Use one of the class methods: RocCurveDisplay.from_predictions or RocCurveDisplay.from_estimator.\n",
      "  warnings.warn(msg, category=FutureWarning)\n",
      "C:\\Users\\SAFIAL ISLAM AYON\\Anaconda3\\lib\\site-packages\\sklearn\\utils\\deprecation.py:87: FutureWarning: Function plot_roc_curve is deprecated; Function `plot_roc_curve` is deprecated in 1.0 and will be removed in 1.2. Use one of the class methods: RocCurveDisplay.from_predictions or RocCurveDisplay.from_estimator.\n",
      "  warnings.warn(msg, category=FutureWarning)\n",
      "C:\\Users\\SAFIAL ISLAM AYON\\Anaconda3\\lib\\site-packages\\sklearn\\utils\\deprecation.py:87: FutureWarning: Function plot_roc_curve is deprecated; Function `plot_roc_curve` is deprecated in 1.0 and will be removed in 1.2. Use one of the class methods: RocCurveDisplay.from_predictions or RocCurveDisplay.from_estimator.\n",
      "  warnings.warn(msg, category=FutureWarning)\n"
     ]
    },
    {
     "data": {
      "image/png": "[encoded data removed]",
      "text/plain": [
       "<Figure size 1440x864 with 1 Axes>"
      ]
     },
     "metadata": {
      "needs_background": "light"
     },
     "output_type": "display_data"
    }
   ],
   "source": [
    "roc_curve_normal(x, y) "
   ]
  },
  {
   "cell_type": "code",
   "execution_count": null,
   "metadata": {},
   "outputs": [],
   "source": []
  }
 ],
 "metadata": {
  "kernelspec": {
   "display_name": "Python 3",
   "language": "python",
   "name": "python3"
  },
  "language_info": {
   "codemirror_mode": {
    "name": "ipython",
    "version": 3
   },
   "file_extension": ".py",
   "mimetype": "text/x-python",
   "name": "python",
   "nbconvert_exporter": "python",
   "pygments_lexer": "ipython3",
   "version": "3.8.8"
  }
 },
 "nbformat": 4,
 "nbformat_minor": 4
}
