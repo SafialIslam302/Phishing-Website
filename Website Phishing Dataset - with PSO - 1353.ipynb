{
 "cells": [
  {
   "cell_type": "code",
   "execution_count": 1,
   "metadata": {
    "colab": {
     "base_uri": "https://localhost:8080/",
     "height": 241
    },
    "colab_type": "code",
    "executionInfo": {
     "elapsed": 9812,
     "status": "ok",
     "timestamp": 1564858452087,
     "user": {
      "displayName": "Shanto Paul",
      "photoUrl": "https://lh5.googleusercontent.com/-S7KXSa0Wfc8/AAAAAAAAAAI/AAAAAAAAAbA/psQRjrN7I7w/s64/photo.jpg",
      "userId": "14781007155831330088"
     },
     "user_tz": 240
    },
    "id": "RTxxxPVWMOCI",
    "outputId": "393559ab-bdf7-4022-cacd-963ed2cc8f03"
   },
   "outputs": [],
   "source": [
    "import sys\n",
    "import random\n",
    "import numpy as np\n",
    "import pandas as pd\n",
    "import seaborn as sns\n",
    "import pyswarms as ps\n",
    "from sklearn import metrics\n",
    "import matplotlib.pyplot as plt\n",
    "from sklearn.svm import LinearSVC\n",
    "from sklearn.decomposition import PCA\n",
    "from sklearn.model_selection import KFold \n",
    "from sklearn.metrics import confusion_matrix\n",
    "from sklearn.preprocessing import LabelEncoder\n",
    "from sklearn.neural_network import MLPClassifier\n",
    "\n",
    "from sklearn.metrics import classification_report\n",
    "from sklearn.model_selection import RepeatedKFold\n",
    "from sklearn.model_selection import train_test_split\n",
    "from sklearn.discriminant_analysis import LinearDiscriminantAnalysis as LDA\n",
    "from sklearn.metrics import f1_score,average_precision_score,recall_score,roc_auc_score\n",
    "from sklearn.preprocessing import RobustScaler,StandardScaler,LabelEncoder,MinMaxScaler\n",
    "from sklearn.metrics import accuracy_score, confusion_matrix, precision_recall_fscore_support\n",
    "from sklearn.ensemble import RandomForestClassifier, AdaBoostClassifier, GradientBoostingClassifier\n",
    "from sklearn.model_selection import train_test_split, cross_val_score,KFold,StratifiedKFold, GridSearchCV\n"
   ]
  },
  {
   "cell_type": "code",
   "execution_count": 33,
   "metadata": {},
   "outputs": [],
   "source": [
    "import math\n",
    "from sklearn import tree\n",
    "from statistics import mean\n",
    "from sklearn import metrics\n",
    "from sklearn.svm import SVC\n",
    "import matplotlib.pyplot as plt\n",
    "from sklearn.metrics import plot_roc_curve\n",
    "from sklearn.tree import DecisionTreeClassifier\n",
    "from sklearn.neighbors import KNeighborsClassifier\n",
    "from sklearn.metrics import accuracy_score\n"
   ]
  },
  {
   "cell_type": "code",
   "execution_count": 3,
   "metadata": {},
   "outputs": [],
   "source": [
    "import warnings\n",
    "warnings.filterwarnings(\"ignore\")"
   ]
  },
  {
   "cell_type": "code",
   "execution_count": 4,
   "metadata": {},
   "outputs": [],
   "source": [
    "raw_data = pd.read_csv('PhishingData.csv')"
   ]
  },
  {
   "cell_type": "code",
   "execution_count": 5,
   "metadata": {
    "colab": {
     "base_uri": "https://localhost:8080/",
     "height": 0
    },
    "colab_type": "code",
    "executionInfo": {
     "elapsed": 9784,
     "status": "ok",
     "timestamp": 1564858452088,
     "user": {
      "displayName": "Shanto Paul",
      "photoUrl": "https://lh5.googleusercontent.com/-S7KXSa0Wfc8/AAAAAAAAAAI/AAAAAAAAAbA/psQRjrN7I7w/s64/photo.jpg",
      "userId": "14781007155831330088"
     },
     "user_tz": 240
    },
    "id": "Z65UblxzHcTg",
    "outputId": "f7a32df4-eece-46e2-bb7e-f8098d4b9d0a"
   },
   "outputs": [],
   "source": [
    "lb_enc = LabelEncoder()\n",
    "raw_data[\"NEW_RESULT\"] = lb_enc.fit_transform(raw_data[\"Result\"])\n",
    "raw_data[[\"Result\", \"NEW_RESULT\"]]\n",
    "df = raw_data.drop(['Result'], axis = 1)\n",
    "df.head(10)\n",
    "coloum = df.shape[1] - 1"
   ]
  },
  {
   "cell_type": "code",
   "execution_count": 6,
   "metadata": {
    "colab": {},
    "colab_type": "code",
    "id": "09gVn8FPHcTj"
   },
   "outputs": [],
   "source": [
    "data_X = df.drop(['NEW_RESULT'], axis=1)\n",
    "data_y = pd.DataFrame(df['NEW_RESULT'])\n",
    "y = data_y.loc[:,:].values\n",
    "X = data_X.iloc[:,:].values"
   ]
  },
  {
   "cell_type": "code",
   "execution_count": 7,
   "metadata": {},
   "outputs": [],
   "source": [
    "np.set_printoptions(threshold=sys.maxsize)\n",
    "#print(y)"
   ]
  },
  {
   "cell_type": "code",
   "execution_count": 8,
   "metadata": {},
   "outputs": [],
   "source": [
    "y = np.where(y >= 1, 1, 0)\n",
    "#print(y)"
   ]
  },
  {
   "cell_type": "code",
   "execution_count": 9,
   "metadata": {
    "colab": {
     "base_uri": "https://localhost:8080/",
     "height": 258
    },
    "colab_type": "code",
    "executionInfo": {
     "elapsed": 12395,
     "status": "ok",
     "timestamp": 1564858454741,
     "user": {
      "displayName": "Shanto Paul",
      "photoUrl": "https://lh5.googleusercontent.com/-S7KXSa0Wfc8/AAAAAAAAAAI/AAAAAAAAAbA/psQRjrN7I7w/s64/photo.jpg",
      "userId": "14781007155831330088"
     },
     "user_tz": 240
    },
    "id": "BLhCVo-ADcaQ",
    "outputId": "bf1af555-f70f-46d7-ecc0-91ef4ca2eed8"
   },
   "outputs": [],
   "source": [
    "%load_ext autoreload\n",
    "%autoreload 2\n",
    "%matplotlib inline\n",
    "  \n",
    "RANDOM_SEED = 42\n",
    "random.seed(RANDOM_SEED)\n",
    "np.random.seed(RANDOM_SEED)"
   ]
  },
  {
   "cell_type": "code",
   "execution_count": 10,
   "metadata": {
    "colab": {},
    "colab_type": "code",
    "id": "R3-IoqV8hdnA"
   },
   "outputs": [],
   "source": [
    "from sklearn import linear_model\n",
    "\n",
    "# Create an instance of the classifier\n",
    "classifier = linear_model.LogisticRegression()\n",
    "\n",
    "# Define objective function\n",
    "def f_per_particle(m, alpha):\n",
    "    \"\"\"Computes for the objective function per particle\n",
    "\n",
    "    Inputs\n",
    "    ------\n",
    "    m : numpy.ndarray\n",
    "        Binary mask that can be obtained from BinaryPSO, will\n",
    "        be used to mask features.\n",
    "    alpha: float (default is 0.5)\n",
    "        Constant weight for trading-off classifier performance\n",
    "        and number of features\n",
    "\n",
    "    Returns\n",
    "    -------\n",
    "    numpy.ndarray\n",
    "        Computed objective function\n",
    "    \"\"\"\n",
    "    total_features = coloum\n",
    "    # Get the subset of the features from the binary mask\n",
    "    if np.count_nonzero(m) == 0:\n",
    "        X_subset = X\n",
    "    else:\n",
    "        X_subset = X[:,m==1]\n",
    "    # Perform classification and store performance in P\n",
    "    classifier.fit(X_subset, y)\n",
    "    P = (classifier.predict(X_subset) == y).mean()\n",
    "    # Compute for the objective function\n",
    "    j = (alpha * (1.0 - P)\n",
    "        + (1.0 - alpha) * (1 - (X_subset.shape[1] / total_features)))\n",
    "\n",
    "    return j"
   ]
  },
  {
   "cell_type": "code",
   "execution_count": 11,
   "metadata": {
    "colab": {},
    "colab_type": "code",
    "id": "W4AYbrbAnRki"
   },
   "outputs": [],
   "source": [
    "def f(x, alpha=0.88):\n",
    "    \"\"\"Higher-level method to do classification in the\n",
    "    whole swarm.\n",
    "\n",
    "    Inputs\n",
    "    ------\n",
    "    x: numpy.ndarray of shape (n_particles, dimensions)\n",
    "        The swarm that will perform the search\n",
    "\n",
    "    Returns\n",
    "    -------\n",
    "    numpy.ndarray of shape (n_particles, )\n",
    "        The computed loss for each particle\n",
    "    \"\"\"\n",
    "    n_particles = x.shape[0]\n",
    "    j = [f_per_particle(x[i], alpha) for i in range(n_particles)]\n",
    "    return np.array(j)"
   ]
  },
  {
   "cell_type": "code",
   "execution_count": 12,
   "metadata": {
    "colab": {
     "base_uri": "https://localhost:8080/",
     "height": 1000
    },
    "colab_type": "code",
    "id": "JRd-zNHfhkyW",
    "outputId": "6c58d4d2-80dc-4d9b-fff7-0d6a95ad56e5"
   },
   "outputs": [
    {
     "name": "stderr",
     "output_type": "stream",
     "text": [
      "2021-10-16 11:32:56,424 - pyswarms.discrete.binary - INFO - Optimize for 200 iters with {'c1': 0.6, 'c2': 0.4, 'w': 0.8, 'k': 30, 'p': 2}\n",
      "pyswarms.discrete.binary: 100%|███████████████████████████████████████████████████████████████|200/200, best_cost=0.439\n",
      "2021-10-16 11:40:08,234 - pyswarms.discrete.binary - INFO - Optimization finished | best cost: 0.4393257981360301, best pos: [1 1 1 1 1 1 1 1 1]\n"
     ]
    },
    {
     "name": "stdout",
     "output_type": "stream",
     "text": [
      "Wall time: 7min 11s\n"
     ]
    }
   ],
   "source": [
    "%%time\n",
    "# Initialize swarm, arbitrary\n",
    "options = {'c1': 0.6, 'c2': 0.4, 'w':0.8, 'k': 30, 'p':2}\n",
    "\n",
    "# Call instance of PSO\n",
    "dimensions = coloum # dimensions should be the number of features\n",
    "optimizer = ps.discrete.BinaryPSO(n_particles=50, dimensions=dimensions, options=options)\n",
    "\n",
    "# Perform optimization\n",
    "cost, pos = optimizer.optimize(f, iters=200)\n"
   ]
  },
  {
   "cell_type": "code",
   "execution_count": 14,
   "metadata": {
    "colab": {},
    "colab_type": "code",
    "id": "TTUdGK2ntjtK"
   },
   "outputs": [
    {
     "name": "stdout",
     "output_type": "stream",
     "text": [
      "Subset performance: 0.501\n"
     ]
    }
   ],
   "source": [
    "# Create two instances of LogisticRegression\n",
    "classfier = linear_model.LogisticRegression()\n",
    "\n",
    "# Get the selected features from the final positions\n",
    "X_selected_features = X[:,pos==1]  # subset\n",
    "\n",
    "# Perform classification and store performance in P\n",
    "classifier.fit(X_selected_features, y)\n",
    "\n",
    "# Compute performance\n",
    "subset_performance = (classifier.predict(X_selected_features) == y).mean()\n",
    "\n",
    "\n",
    "print('Subset performance: %.3f' % (subset_performance))"
   ]
  },
  {
   "cell_type": "markdown",
   "metadata": {},
   "source": [
    "# Train Test Split"
   ]
  },
  {
   "cell_type": "code",
   "execution_count": 15,
   "metadata": {
    "colab": {},
    "colab_type": "code",
    "id": "tHo-fVM2t38X"
   },
   "outputs": [
    {
     "name": "stdout",
     "output_type": "stream",
     "text": [
      "(1014, 9)\n",
      "(339, 9)\n",
      "(1014, 1)\n",
      "(339, 1)\n"
     ]
    }
   ],
   "source": [
    "X_train, X_test, y_train, y_test = train_test_split(X_selected_features, y, test_size=0.25, random_state=0, stratify=y)\n",
    "print (X_train.shape)\n",
    "print (X_test.shape)\n",
    "print (y_train.shape)\n",
    "print (y_test.shape)"
   ]
  },
  {
   "cell_type": "markdown",
   "metadata": {},
   "source": [
    "# Evalution Function"
   ]
  },
  {
   "cell_type": "code",
   "execution_count": 16,
   "metadata": {},
   "outputs": [],
   "source": [
    "def evaluation(clf, X, Y):\n",
    "    print(f'Accuracy')\n",
    "    acc = cross_val_score(clf, X, Y, scoring=\"accuracy\", cv = 5)\n",
    "    print(acc)\n",
    "    print(\"Accuracy Score (Mean): \", acc.mean())\n",
    "    print(\"Standard Error: \", acc.std())\n",
    "    \n",
    "\n",
    "    print(f'\\nF1 Score')\n",
    "    f1_score = cross_val_score(clf, X, Y, scoring=\"f1\", cv = 5)\n",
    "    print(f1_score)\n",
    "    print(\"F1 Score (Mean): \", f1_score.mean())\n",
    "    print(\"Standard Error: \", f1_score.std())\n",
    "    \n",
    "    print(f'\\nPrecision')\n",
    "    pre = cross_val_score(clf, X, Y, scoring=\"precision\", cv = 5)\n",
    "    print(pre)\n",
    "    print(\"Precision (Mean): \", pre.mean())\n",
    "    print(\"Standard Error: \", pre.std())\n",
    "    \n",
    "    print(f'\\nSensitivity')\n",
    "    rec = cross_val_score(clf, X, Y, scoring=\"recall\", cv = 5)\n",
    "    print(rec)\n",
    "    print(\"Recall (Mean): \", rec.mean())\n",
    "    print(\"Standard Error: \", rec.std())"
   ]
  },
  {
   "cell_type": "markdown",
   "metadata": {},
   "source": [
    "# Decision tree"
   ]
  },
  {
   "cell_type": "code",
   "execution_count": 17,
   "metadata": {},
   "outputs": [],
   "source": [
    "def hyperParameterTuning_DecisionTree(features, labels):\n",
    "    params = {\n",
    "        \"max_features\": [\"auto\", \"sqrt\", \"log2\"],\n",
    "        \"min_samples_leaf\": [3, 4, 5],\n",
    "        \"min_samples_split\": [8, 10, 12],\n",
    "        \"criterion\": [\"gini\", \"entropy\"],\n",
    "        \"max_depth\": [10, 20, 30, 40, 50],\n",
    "        \"random_state\": [10, 20, 30, 40, 50]\n",
    "    }\n",
    "    \n",
    "    rf_model = DecisionTreeClassifier()\n",
    "    \n",
    "    gsearch = GridSearchCV(estimator = rf_model, param_grid = params, cv = 5, n_jobs = -1, verbose = 1)\n",
    "    \n",
    "    gsearch.fit(features,labels)\n",
    "    \n",
    "    return gsearch.best_params_"
   ]
  },
  {
   "cell_type": "code",
   "execution_count": 17,
   "metadata": {},
   "outputs": [
    {
     "name": "stdout",
     "output_type": "stream",
     "text": [
      "Fitting 5 folds for each of 1350 candidates, totalling 6750 fits\n"
     ]
    },
    {
     "data": {
      "text/plain": [
       "{'criterion': 'gini',\n",
       " 'max_depth': 10,\n",
       " 'max_features': 'auto',\n",
       " 'min_samples_leaf': 4,\n",
       " 'min_samples_split': 8,\n",
       " 'random_state': 10}"
      ]
     },
     "execution_count": 17,
     "metadata": {},
     "output_type": "execute_result"
    }
   ],
   "source": [
    "hyperParameterTuning_DecisionTree(X_train, y_train)"
   ]
  },
  {
   "cell_type": "code",
   "execution_count": 18,
   "metadata": {},
   "outputs": [],
   "source": [
    "clf_tree = DecisionTreeClassifier(criterion='gini', max_depth=10, max_features='auto',\n",
    "                                      min_samples_leaf = 4, min_samples_split = 8, random_state = 10)"
   ]
  },
  {
   "cell_type": "code",
   "execution_count": 19,
   "metadata": {},
   "outputs": [
    {
     "name": "stdout",
     "output_type": "stream",
     "text": [
      "Accuracy\n",
      "[0.85294118 0.85294118 0.85294118 0.86764706 0.8358209 ]\n",
      "Accuracy Score (Mean):  0.8524582967515364\n",
      "Standard Error:  0.010081677751331834\n",
      "\n",
      "F1 Score\n",
      "[0.83870968 0.85714286 0.84375    0.85714286 0.83076923]\n",
      "F1 Score (Mean):  0.84550292449486\n",
      "Standard Error:  0.010366086484435714\n",
      "\n",
      "Precision\n",
      "[0.86666667 0.81081081 0.87096774 0.9        0.81818182]\n",
      "Precision (Mean):  0.8533254075189559\n",
      "Standard Error:  0.03379444199076564\n",
      "\n",
      "Sensitivity\n",
      "[0.8125     0.90909091 0.81818182 0.81818182 0.84375   ]\n",
      "Recall (Mean):  0.8403409090909092\n",
      "Standard Error:  0.03604261710716749\n"
     ]
    }
   ],
   "source": [
    "evaluation(clf_tree, X_test, y_test)"
   ]
  },
  {
   "cell_type": "markdown",
   "metadata": {},
   "source": [
    "# K-Nearest Neighbors"
   ]
  },
  {
   "cell_type": "code",
   "execution_count": 20,
   "metadata": {},
   "outputs": [],
   "source": [
    "def hyperParameterTuning_KNN(features, labels):\n",
    "    params = {\n",
    "        \"n_neighbors\": [3, 5, 8, 10, 13],\n",
    "        \"weights\": [\"uniform\", \"distance\"],\n",
    "        \"algorithm\": [\"auto\", \"ball_tree\", \"kd_tree\"],\n",
    "        \"metric\": [\"minkowski\", \"euclidean\", \"manhattan\"],\n",
    "        \"p\": [1, 2, 3, 4, 5]\n",
    "    }\n",
    "    \n",
    "    rf_model = KNeighborsClassifier()\n",
    "    \n",
    "    gsearch = GridSearchCV(estimator = rf_model, param_grid = params, cv = 5, n_jobs = -1, verbose = 1)\n",
    "    \n",
    "    gsearch.fit(features,labels)\n",
    "    \n",
    "    return gsearch.best_params_"
   ]
  },
  {
   "cell_type": "code",
   "execution_count": 21,
   "metadata": {},
   "outputs": [
    {
     "name": "stdout",
     "output_type": "stream",
     "text": [
      "Fitting 5 folds for each of 450 candidates, totalling 2250 fits\n"
     ]
    },
    {
     "data": {
      "text/plain": [
       "{'algorithm': 'ball_tree',\n",
       " 'metric': 'minkowski',\n",
       " 'n_neighbors': 13,\n",
       " 'p': 1,\n",
       " 'weights': 'uniform'}"
      ]
     },
     "execution_count": 21,
     "metadata": {},
     "output_type": "execute_result"
    }
   ],
   "source": [
    "hyperParameterTuning_KNN(X_train, y_train)"
   ]
  },
  {
   "cell_type": "code",
   "execution_count": 21,
   "metadata": {},
   "outputs": [],
   "source": [
    "clf_KNN = KNeighborsClassifier(algorithm = \"ball_tree\", metric = \"minkowski\", n_neighbors = 13, p = 1, weights = \"uniform\")"
   ]
  },
  {
   "cell_type": "code",
   "execution_count": 22,
   "metadata": {},
   "outputs": [
    {
     "name": "stdout",
     "output_type": "stream",
     "text": [
      "Accuracy\n",
      "[0.92647059 0.83823529 0.80882353 0.82352941 0.7761194 ]\n",
      "Accuracy Score (Mean):  0.8346356453028971\n",
      "Standard Error:  0.05031973485654781\n",
      "\n",
      "F1 Score\n",
      "[0.92307692 0.84057971 0.8115942  0.8        0.7761194 ]\n",
      "F1 Score (Mean):  0.8302740478210952\n",
      "Standard Error:  0.050826686822576565\n",
      "\n",
      "Precision\n",
      "[0.90909091 0.80555556 0.77777778 0.88888889 0.74285714]\n",
      "Precision (Mean):  0.8248340548340547\n",
      "Standard Error:  0.06404437070836386\n",
      "\n",
      "Sensitivity\n",
      "[0.9375     0.87878788 0.84848485 0.72727273 0.8125    ]\n",
      "Recall (Mean):  0.840909090909091\n",
      "Standard Error:  0.07006039962746141\n"
     ]
    }
   ],
   "source": [
    "evaluation(clf_KNN, X_test, y_test)"
   ]
  },
  {
   "cell_type": "markdown",
   "metadata": {},
   "source": [
    "# Random Forest  "
   ]
  },
  {
   "cell_type": "code",
   "execution_count": 23,
   "metadata": {},
   "outputs": [],
   "source": [
    "def hyperParameterTuning_RF(features, labels):\n",
    "    params = {\n",
    "        \"n_estimators\": [30, 50, 70, 100],\n",
    "        \"criterion\": [\"gini\", \"entropy\"],\n",
    "        \"max_depth\": [10, 20, 30, 40, 50],\n",
    "        \"random_state\": [10, 20, 30, 40, 50]\n",
    "    }\n",
    "    \n",
    "    rf_model = RandomForestClassifier()\n",
    "    \n",
    "    gsearch = GridSearchCV(estimator = rf_model, param_grid = params, cv = 5, n_jobs = -1, verbose = 1)\n",
    "    \n",
    "    gsearch.fit(features,labels)\n",
    "    \n",
    "    return gsearch.best_params_"
   ]
  },
  {
   "cell_type": "code",
   "execution_count": 25,
   "metadata": {},
   "outputs": [
    {
     "name": "stdout",
     "output_type": "stream",
     "text": [
      "Fitting 5 folds for each of 200 candidates, totalling 1000 fits\n"
     ]
    },
    {
     "data": {
      "text/plain": [
       "{'criterion': 'gini', 'max_depth': 10, 'n_estimators': 70, 'random_state': 20}"
      ]
     },
     "execution_count": 25,
     "metadata": {},
     "output_type": "execute_result"
    }
   ],
   "source": [
    "hyperParameterTuning_RF(X_train, y_train)"
   ]
  },
  {
   "cell_type": "code",
   "execution_count": 24,
   "metadata": {},
   "outputs": [],
   "source": [
    "clf_rf = RandomForestClassifier(criterion = 'gini', max_depth = 10, n_estimators = 70, random_state = 20)"
   ]
  },
  {
   "cell_type": "code",
   "execution_count": 25,
   "metadata": {},
   "outputs": [
    {
     "name": "stdout",
     "output_type": "stream",
     "text": [
      "Accuracy\n",
      "[0.86764706 0.83823529 0.88235294 0.83823529 0.80597015]\n",
      "Accuracy Score (Mean):  0.8464881474978052\n",
      "Standard Error:  0.02650249163244333\n",
      "\n",
      "F1 Score\n",
      "[0.85245902 0.84057971 0.87878788 0.81355932 0.8       ]\n",
      "F1 Score (Mean):  0.8370771854720294\n",
      "Standard Error:  0.027987346861358228\n",
      "\n",
      "Precision\n",
      "[0.89655172 0.80555556 0.87878788 0.92307692 0.78787879]\n",
      "Precision (Mean):  0.8583701738874152\n",
      "Standard Error:  0.052573940796874406\n",
      "\n",
      "Sensitivity\n",
      "[0.8125     0.87878788 0.87878788 0.72727273 0.8125    ]\n",
      "Recall (Mean):  0.821969696969697\n",
      "Standard Error:  0.05586318637785084\n"
     ]
    }
   ],
   "source": [
    "evaluation(clf_rf, X_test, y_test)"
   ]
  },
  {
   "cell_type": "markdown",
   "metadata": {},
   "source": [
    "# Support Vector Machine"
   ]
  },
  {
   "cell_type": "code",
   "execution_count": 26,
   "metadata": {},
   "outputs": [],
   "source": [
    "def hyperParameterTuning_SVC(features, labels):\n",
    "    params = {\n",
    "        \"kernel\": [\"linear\", \"poly\", \"rbf\", \"sigmoid\"],\n",
    "        \"C\": [1, 3, 5],\n",
    "        \"random_state\": [10, 20, 30, 40, 50]\n",
    "    }\n",
    "    \n",
    "    rf_model = SVC()\n",
    "    \n",
    "    gsearch = GridSearchCV(estimator = rf_model, param_grid = params, cv = 5, n_jobs = -1, verbose = 1)\n",
    "    \n",
    "    gsearch.fit(features,labels)\n",
    "    \n",
    "    return gsearch.best_params_"
   ]
  },
  {
   "cell_type": "code",
   "execution_count": 29,
   "metadata": {},
   "outputs": [
    {
     "name": "stdout",
     "output_type": "stream",
     "text": [
      "Fitting 5 folds for each of 60 candidates, totalling 300 fits\n"
     ]
    },
    {
     "data": {
      "text/plain": [
       "{'C': 5, 'kernel': 'rbf', 'random_state': 10}"
      ]
     },
     "execution_count": 29,
     "metadata": {},
     "output_type": "execute_result"
    }
   ],
   "source": [
    "hyperParameterTuning_SVC(X_train, y_train)"
   ]
  },
  {
   "cell_type": "code",
   "execution_count": 27,
   "metadata": {},
   "outputs": [],
   "source": [
    "clf_svm = SVC(random_state = 10, kernel='rbf', C = 5)"
   ]
  },
  {
   "cell_type": "code",
   "execution_count": 28,
   "metadata": {},
   "outputs": [
    {
     "name": "stdout",
     "output_type": "stream",
     "text": [
      "Accuracy\n",
      "[0.91176471 0.83823529 0.88235294 0.83823529 0.86567164]\n",
      "Accuracy Score (Mean):  0.8672519754170326\n",
      "Standard Error:  0.02791363602963835\n",
      "\n",
      "F1 Score\n",
      "[0.90625    0.84057971 0.875      0.82539683 0.86153846]\n",
      "F1 Score (Mean):  0.8617529994160428\n",
      "Standard Error:  0.028019963168480114\n",
      "\n",
      "Precision\n",
      "[0.90625    0.80555556 0.90322581 0.86666667 0.84848485]\n",
      "Precision (Mean):  0.8660365754317366\n",
      "Standard Error:  0.03732712771806209\n",
      "\n",
      "Sensitivity\n",
      "[0.90625    0.87878788 0.84848485 0.78787879 0.875     ]\n",
      "Recall (Mean):  0.8592803030303031\n",
      "Standard Error:  0.040121129153992775\n"
     ]
    }
   ],
   "source": [
    "evaluation(clf_svm, X_test, y_test)"
   ]
  },
  {
   "cell_type": "markdown",
   "metadata": {
    "colab_type": "text",
    "id": "V-FVD86rHcTt"
   },
   "source": [
    "# Artificial Neural Network"
   ]
  },
  {
   "cell_type": "code",
   "execution_count": 29,
   "metadata": {},
   "outputs": [],
   "source": [
    "def hyperParameterTuning_MLP(features, labels):\n",
    "    params = {\n",
    "        \"hidden_layer_sizes\": [(50,50,50), (50,100,50), (100,)],\n",
    "        \"activation\": ['tanh', 'relu'],\n",
    "        \"max_iter\": [500, 600, 800, 1000],\n",
    "        \"learning_rate\": ['constant','adaptive', \"invscaling\"],\n",
    "        \"random_state\": [10, 20, 30, 40, 50]\n",
    "    }\n",
    "    \n",
    "    rf_model = MLPClassifier()\n",
    "    \n",
    "    gsearch = GridSearchCV(estimator = rf_model, param_grid = params, cv = 5, n_jobs = -1, verbose = 1)\n",
    "    \n",
    "    gsearch.fit(features,labels)\n",
    "    \n",
    "    return gsearch.best_params_"
   ]
  },
  {
   "cell_type": "code",
   "execution_count": 33,
   "metadata": {},
   "outputs": [
    {
     "name": "stdout",
     "output_type": "stream",
     "text": [
      "Fitting 5 folds for each of 360 candidates, totalling 1800 fits\n"
     ]
    },
    {
     "data": {
      "text/plain": [
       "{'activation': 'relu',\n",
       " 'hidden_layer_sizes': (50, 100, 50),\n",
       " 'learning_rate': 'constant',\n",
       " 'max_iter': 500,\n",
       " 'random_state': 10}"
      ]
     },
     "execution_count": 33,
     "metadata": {},
     "output_type": "execute_result"
    }
   ],
   "source": [
    "hyperParameterTuning_MLP(X_train, y_train)"
   ]
  },
  {
   "cell_type": "code",
   "execution_count": 30,
   "metadata": {},
   "outputs": [],
   "source": [
    "clf_mlp = MLPClassifier(activation = \"relu\", hidden_layer_sizes = (50, 100, 50), learning_rate = \"constant\", \n",
    "                        max_iter = 500, random_state = 10) "
   ]
  },
  {
   "cell_type": "code",
   "execution_count": 31,
   "metadata": {},
   "outputs": [
    {
     "name": "stdout",
     "output_type": "stream",
     "text": [
      "Accuracy\n",
      "[0.92647059 0.82352941 0.85294118 0.80882353 0.86567164]\n",
      "Accuracy Score (Mean):  0.8554872695346797\n",
      "Standard Error:  0.040859869988547584\n",
      "\n",
      "F1 Score\n",
      "[0.92307692 0.82352941 0.84848485 0.78688525 0.86153846]\n",
      "F1 Score (Mean):  0.8487029781533156\n",
      "Standard Error:  0.045058675886546135\n",
      "\n",
      "Precision\n",
      "[0.90909091 0.8        0.84848485 0.85714286 0.84848485]\n",
      "Precision (Mean):  0.8526406926406926\n",
      "Standard Error:  0.03467702705096857\n",
      "\n",
      "Sensitivity\n",
      "[0.9375     0.84848485 0.84848485 0.72727273 0.875     ]\n",
      "Recall (Mean):  0.8473484848484849\n",
      "Standard Error:  0.06828275357117423\n"
     ]
    }
   ],
   "source": [
    "evaluation(clf_mlp, X_test, y_test)"
   ]
  },
  {
   "cell_type": "markdown",
   "metadata": {},
   "source": [
    "# ROC Curve"
   ]
  },
  {
   "cell_type": "code",
   "execution_count": 35,
   "metadata": {},
   "outputs": [],
   "source": [
    "def roc_curve_normal(X, Y):\n",
    "    X_train, X_test, y_train, y_test = train_test_split(X, Y, test_size = 0.25)\n",
    "    \n",
    "    clf_tree = DecisionTreeClassifier(criterion='gini', max_depth=10, max_features='auto',\n",
    "                                      min_samples_leaf = 4, min_samples_split = 8, random_state = 10)\n",
    "    clf_tree.fit(X_train, y_train)\n",
    "    #Curve Point\n",
    "    #y_score1 = clf_random.predict_proba(X_test)[:,1]\n",
    "    #false_positive_rate1, true_positive_rate1, threshold1 = roc_curve(y_test, y_score1)\n",
    "    #print(false_positive_rate1, true_positive_rate1, threshold1)\n",
    "    \n",
    "    #X_train, X_test, y_train, y_test = train_test_split(X, Y, test_size = 0.25)\n",
    "    clf_KNN = KNeighborsClassifier(algorithm = \"ball_tree\", metric = \"minkowski\", n_neighbors = 13, p = 1, weights = \"uniform\")\n",
    "    clf_KNN.fit(X_train, y_train)\n",
    "    \n",
    "    clf_rf = RandomForestClassifier(criterion = 'gini', max_depth = 10, n_estimators = 70, random_state = 20)\n",
    "    clf_rf.fit(X_train, y_train)\n",
    "    \n",
    "    clf_svm = SVC(random_state = 10, kernel='rbf', C = 5)\n",
    "    clf_svm.fit(X_train, y_train)\n",
    "    \n",
    "    clf_mlp = MLPClassifier(activation = \"relu\", hidden_layer_sizes = (50, 100, 50), learning_rate = \"constant\", \n",
    "                        max_iter = 500, random_state = 10) \n",
    "    clf_mlp.fit(X_train, y_train)\n",
    "    \n",
    "    \n",
    "    ax = plt.gca()\n",
    "    \n",
    "    clf_tree_disp = plot_roc_curve(clf_tree, X_test, y_test, ax=ax, alpha=0.8)\n",
    "    clf_KNN_disp  = plot_roc_curve(clf_KNN, X_test, y_test, ax=ax, alpha=0.8)\n",
    "    clf_rf_disp   = plot_roc_curve(clf_rf, X_test, y_test, ax=ax, alpha=0.8)\n",
    "    clf_svm_disp  = plot_roc_curve(clf_svm, X_test, y_test, ax=ax, alpha=0.8)\n",
    "    clf_mlp_disp  = plot_roc_curve(clf_mlp, X_test, y_test, ax=ax, alpha=0.8)\n",
    "    \n",
    "    ax.figure.set_size_inches(20, 12)\n",
    "    plt.show()"
   ]
  },
  {
   "cell_type": "code",
   "execution_count": 36,
   "metadata": {},
   "outputs": [
    {
     "data": {
      "image/png": "[encoded data removed]",
      "text/plain": [
       "<Figure size 1440x864 with 1 Axes>"
      ]
     },
     "metadata": {
      "needs_background": "light"
     },
     "output_type": "display_data"
    }
   ],
   "source": [
    "roc_curve_normal(X_selected_features, y) "
   ]
  },
  {
   "cell_type": "code",
   "execution_count": null,
   "metadata": {},
   "outputs": [],
   "source": []
  }
 ],
 "metadata": {
  "accelerator": "GPU",
  "colab": {
   "name": "Final_ECE_657.ipynb",
   "provenance": [],
   "version": "0.3.2"
  },
  "kernelspec": {
   "display_name": "Python 3",
   "language": "python",
   "name": "python3"
  },
  "language_info": {
   "codemirror_mode": {
    "name": "ipython",
    "version": 3
   },
   "file_extension": ".py",
   "mimetype": "text/x-python",
   "name": "python",
   "nbconvert_exporter": "python",
   "pygments_lexer": "ipython3",
   "version": "3.8.8"
  }
 },
 "nbformat": 4,
 "nbformat_minor": 1
}
